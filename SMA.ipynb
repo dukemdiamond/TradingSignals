{
 "cells": [
  {
   "metadata": {},
   "cell_type": "code",
   "outputs": [],
   "execution_count": null,
   "source": "",
   "id": "8803121da21f8bb4"
  },
  {
   "metadata": {
    "collapsed": true,
    "ExecuteTime": {
     "end_time": "2025-06-11T18:23:26.751992Z",
     "start_time": "2025-06-11T18:23:23.495753Z"
    }
   },
   "cell_type": "code",
   "source": [
    "import pandas as pd\n",
    "from alpha_vantage.techindicators import TechIndicators\n",
    "from alpha_vantage.timeseries import TimeSeries\n",
    "import matplotlib.pyplot as plt\n",
    "import yfinance as yf\n",
    "from pandas import *\n",
    "\n",
    "\"\"\"\n",
    "We need to:\n",
    "    - Calculate SMA over 50 -> 100 -> 200 day periods\n",
    "    - Compile that data into a CSV\n",
    "    - Calculate RS% over same periods (Also: April, May, June)\n",
    "    - Do not include market bottom (Apr 17)\n",
    "    - Stocks: TXN, AMAT, COUR, GNRC, IDCC, LLY, NICE, NOK, WFC, REGN, AMD, GRAL, KLAC\n",
    "    - Compare to ^GSPC\n",
    "\n",
    "\"\"\"\n",
    "# Periods of time\n",
    "time_periods = {\n",
    "    'Q2_2025': ('2025-03-31', '2025-06-11'),\n",
    "    'April': ('2025-04-01', '2025-04-30'),\n",
    "    'May': ('2025-05-01', '2025-05-31'),\n",
    "    'June': ('2025-06-01', '2025-06-11')\n",
    "}\n",
    "\n",
    "# Stocks\n",
    "stock_tickers = ['TXN', 'AMAT', 'COUR', 'GNRC', 'IDCC', 'LLY', 'NICE', 'NOK', 'WFC', 'REGN', 'AMD', 'GRAL', 'KLAC']\n",
    "\n",
    "# Pull AlphaVantageAPI\n",
    "ts = TimeSeries(key=\"00WPSKG93DBMYOOR\")\n",
    "ti = TechIndicators(key='00WPSKG93DBMYOOR', output_format='pandas')\n",
    "\n",
    "# Initialize 50, 100, 200 data for stocks (yFinance)\n",
    "def initialize_sma_data(tickers, time_period, periods=[50,100,200]):\n",
    "    sma_data = {}\n",
    "    start, end = time_period\n",
    "    for ticker in tickers:\n",
    "            stock = yf.Ticker(ticker)\n",
    "            data = stock.history(period=\"1y\") # 2y historical data, enough for 200day\n",
    "\n",
    "            for period in periods:\n",
    "                sma_key = f'{ticker}_{period}_sma' # Looks like ex: TXN_50_sma\n",
    "                sma = data['Close'].rolling(window=period).mean()  # Calculates SMA\n",
    "\n",
    "                # Filter by date\n",
    "                sma_data[sma_key] = sma.loc[start:end]\n",
    "\n",
    "    return sma_data\n",
    "\n",
    "# Insert data into separate variables based on time periods\n",
    "sma_data_q2 = initialize_sma_data(stock_tickers, time_periods['Q2_2025'])\n",
    "sma_data_april = initialize_sma_data(stock_tickers, time_periods['April'])\n",
    "sma_data_may = initialize_sma_data(stock_tickers, time_periods['May'])\n",
    "sma_data_june = initialize_sma_data(stock_tickers, time_periods['June'])\n",
    "\n",
    "# Then into dataframes\n",
    "q2_df = pd.DataFrame(sma_data_q2)\n",
    "april_df = pd.DataFrame(sma_data_april)\n",
    "may_df = pd.DataFrame(sma_data_may)\n",
    "june_df = pd.DataFrame(sma_data_june)\n",
    "\n",
    "# And CSVs\n",
    "q2_df.to_csv('q2_sma_df.csv')\n",
    "april_df.to_csv('april_sma_df.csv')\n",
    "may_df.to_csv('may_sma_df.csv')\n",
    "june_df.to_csv('june_sma_df.csv')\n",
    "\n",
    "\n"
   ],
   "id": "initial_id",
   "outputs": [],
   "execution_count": 22
  }
 ],
 "metadata": {
  "kernelspec": {
   "display_name": "Python 3",
   "language": "python",
   "name": "python3"
  },
  "language_info": {
   "codemirror_mode": {
    "name": "ipython",
    "version": 2
   },
   "file_extension": ".py",
   "mimetype": "text/x-python",
   "name": "python",
   "nbconvert_exporter": "python",
   "pygments_lexer": "ipython2",
   "version": "2.7.6"
  }
 },
 "nbformat": 4,
 "nbformat_minor": 5
}
